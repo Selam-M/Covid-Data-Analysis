{
 "cells": [
  {
   "cell_type": "markdown",
   "id": "8a52671d-7829-4e4a-9147-562cda1abf31",
   "metadata": {},
   "source": [
    "#### COVID PROJECT\n",
    "#### THE AIM OF THE PROJECT IS :TO ANALYZES AND VISUALIZES HOW COVID-19 HAS EVOLVED IN DIFFERENT COUNTRIES BY :\n",
    "#### SHOWING PATTERNS LIKE CASE GROWTH, DEATH RATES, AND COMPARISONS — GIVING A CLEARER PICTURE OF THE PANDEMIC'S IMPACT ACROSS REGIONS."
   ]
  },
  {
   "cell_type": "markdown",
   "id": "507340a3-7447-483f-aca7-7e99f8b24b0c",
   "metadata": {},
   "source": [
    "# A. Project Setup and API fetching "
   ]
  },
  {
   "cell_type": "markdown",
   "id": "8ac1f85e-f757-4ec7-93b9-9a3d0a94fcc6",
   "metadata": {},
   "source": [
    "## Step 1: Install and Import Required Libraries\n",
    "\n",
    "This section installs the `requests` library (if not already available) and imports the required modules for API requests and JSON handling."
   ]
  },
  {
   "cell_type": "code",
   "execution_count": 6,
   "id": "caea62ac-97c3-49d4-b31a-d2c8e01570ad",
   "metadata": {
    "scrolled": true
   },
   "outputs": [
    {
     "name": "stdout",
     "output_type": "stream",
     "text": [
      "Defaulting to user installation because normal site-packages is not writeable\n",
      "Requirement already satisfied: requests in c:\\users\\selam\\appdata\\roaming\\python\\python313\\site-packages (2.32.3)\n",
      "Requirement already satisfied: charset-normalizer<4,>=2 in c:\\users\\selam\\appdata\\roaming\\python\\python313\\site-packages (from requests) (3.4.2)\n",
      "Requirement already satisfied: idna<4,>=2.5 in c:\\users\\selam\\appdata\\roaming\\python\\python313\\site-packages (from requests) (3.10)\n",
      "Requirement already satisfied: urllib3<3,>=1.21.1 in c:\\users\\selam\\appdata\\roaming\\python\\python313\\site-packages (from requests) (2.4.0)\n",
      "Requirement already satisfied: certifi>=2017.4.17 in c:\\users\\selam\\appdata\\roaming\\python\\python313\\site-packages (from requests) (2025.4.26)\n"
     ]
    }
   ],
   "source": [
    "\n",
    "# Install requests library if not installed\n",
    "!pip install requests"
   ]
  },
  {
   "cell_type": "code",
   "execution_count": 7,
   "id": "928cdcf2-2db4-4872-8bde-e177f264149b",
   "metadata": {},
   "outputs": [],
   "source": [
    "# Import third-party module\n",
    "import requests\n",
    "# Import built-in Python modules\n",
    "import json"
   ]
  },
  {
   "cell_type": "markdown",
   "id": "5c948f35-2b77-47f1-9ca9-d31cf27c19cf",
   "metadata": {},
   "source": [
    "## Step 2: Fetch Data from the COVID-19 API\n",
    "\n",
    "The following code retrieves real-time country-level COVID-19 data from the public `disease.sh` API.  \n",
    "#Exception handling is implemented to catch potential request or network issues."
   ]
  },
  {
   "cell_type": "code",
   "execution_count": 8,
   "id": "fb306c18-5a21-46d6-9b12-a9350f287c5a",
   "metadata": {},
   "outputs": [
    {
     "name": "stdout",
     "output_type": "stream",
     "text": [
      "Error fetching data: name 'data' is not defined\n"
     ]
    }
   ],
   "source": [
    "# Define the API endpoint URL\n",
    "url = \"https://disease.sh/v3/covid-19/countries\"\n",
    "\n",
    "# Attempt to fetch data from the API\n",
    "try:\n",
    "    response = requests.get(url, timeout=10) # The section after the comma in the bracket recieves key word arguments which define how the request behaves  \n",
    "    response.raise_for_status()  # Raises an HTTPError for bad responses by itself and tells the code \"Stop something is wrong \"\n",
    "    covid_data = response.json()       # Convert the response to a Python object\n",
    "    print(f\"Successfully fetched data for {len(data)} countries.\")\n",
    "except Exception as e:\n",
    "    print(\"Error fetching data:\", e)"
   ]
  },
  {
   "cell_type": "markdown",
   "id": "f0b81035-3dfe-4f27-acc8-ada26b685e4a",
   "metadata": {},
   "source": [
    "## Step 3: Preview the First Record\n"
   ]
  },
  {
   "cell_type": "code",
   "execution_count": 9,
   "id": "dc5038be-9d4f-43e1-bd64-f13cd3aaf18d",
   "metadata": {},
   "outputs": [
    {
     "data": {
      "text/plain": [
       "{'updated': 1750793065423,\n",
       " 'country': 'Afghanistan',\n",
       " 'countryInfo': {'_id': 4,\n",
       "  'iso2': 'AF',\n",
       "  'iso3': 'AFG',\n",
       "  'lat': 33,\n",
       "  'long': 65,\n",
       "  'flag': 'https://disease.sh/assets/img/flags/af.png'},\n",
       " 'cases': 234174,\n",
       " 'todayCases': 0,\n",
       " 'deaths': 7996,\n",
       " 'todayDeaths': 0,\n",
       " 'recovered': 211080,\n",
       " 'todayRecovered': 0,\n",
       " 'active': 15098,\n",
       " 'critical': 0,\n",
       " 'casesPerOneMillion': 5746,\n",
       " 'deathsPerOneMillion': 196,\n",
       " 'tests': 1390730,\n",
       " 'testsPerOneMillion': 34125,\n",
       " 'population': 40754388,\n",
       " 'continent': 'Asia',\n",
       " 'oneCasePerPeople': 174,\n",
       " 'oneDeathPerPeople': 5097,\n",
       " 'oneTestPerPeople': 29,\n",
       " 'activePerOneMillion': 370.46,\n",
       " 'recoveredPerOneMillion': 5179.32,\n",
       " 'criticalPerOneMillion': 0}"
      ]
     },
     "execution_count": 9,
     "metadata": {},
     "output_type": "execute_result"
    }
   ],
   "source": [
    "covid_data[0]"
   ]
  },
  {
   "cell_type": "markdown",
   "id": "197dd4d9-a6e2-416d-943c-68d85c797f2e",
   "metadata": {},
   "source": [
    "## Step 4: Save Raw JSON to data/ Folder"
   ]
  },
  {
   "cell_type": "code",
   "execution_count": 10,
   "id": "b22ad702-665e-4e72-b98a-99909c819fa8",
   "metadata": {},
   "outputs": [
    {
     "name": "stdout",
     "output_type": "stream",
     "text": [
      "Data successfully saved to 'data/raw_data.json'.\n"
     ]
    }
   ],
   "source": [
    "### In this step we are saving the API Response (Python Object) object into an acessible JSON File                                                   \n",
    "\n",
    "# The below creates the file 'raw_data.json' in the 'data' folder.\n",
    "# we are opening it with 'with open' to ensure the file is closed automatically and safely after writing.\n",
    "# helps us access our data even after closing \n",
    "with open(\"data/raw_data.json\", \"w\") as f:  \n",
    "# The below line writes the covid_data (a Python object) into the file in JSON format.\n",
    "# The indent=2 makes the file human-readable with structured indentation.\n",
    "    json.dump(covid_data, f, indent=2)   ## and this will dump our API Response (Python Object) in to the already opened location called raw_data\n",
    "\n",
    "print(\"Data successfully saved to 'data/raw_data.json'.\")"
   ]
  },
  {
   "cell_type": "markdown",
   "id": "86baf3be-ee97-4bf8-b638-78f03bae7f40",
   "metadata": {},
   "source": [
    "## Step 5 : Load the JSON File into a Pandas DataFrame"
   ]
  },
  {
   "cell_type": "code",
   "execution_count": null,
   "id": "9a2e9351-7d4e-416d-aea3-2769580c1bc8",
   "metadata": {},
   "outputs": [],
   "source": []
  },
  {
   "cell_type": "markdown",
   "id": "2346429e-d104-4927-8330-30eeb02c0be7",
   "metadata": {},
   "source": [
    "# B. Data Cleaning and Preprocessing"
   ]
  },
  {
   "cell_type": "markdown",
   "id": "f3c8b1aa-aabd-4abe-a5ac-1dad39be8f3f",
   "metadata": {},
   "source": [
    "## Step 1 : Load the JSON File into a Pandas DataFrame"
   ]
  },
  {
   "cell_type": "code",
   "execution_count": 11,
   "id": "be62a358-ff69-4d67-aea3-204e229b125b",
   "metadata": {},
   "outputs": [
    {
     "data": {
      "text/html": [
       "<div>\n",
       "<style scoped>\n",
       "    .dataframe tbody tr th:only-of-type {\n",
       "        vertical-align: middle;\n",
       "    }\n",
       "\n",
       "    .dataframe tbody tr th {\n",
       "        vertical-align: top;\n",
       "    }\n",
       "\n",
       "    .dataframe thead th {\n",
       "        text-align: right;\n",
       "    }\n",
       "</style>\n",
       "<table border=\"1\" class=\"dataframe\">\n",
       "  <thead>\n",
       "    <tr style=\"text-align: right;\">\n",
       "      <th></th>\n",
       "      <th>updated</th>\n",
       "      <th>country</th>\n",
       "      <th>countryInfo</th>\n",
       "      <th>cases</th>\n",
       "      <th>todayCases</th>\n",
       "      <th>deaths</th>\n",
       "      <th>todayDeaths</th>\n",
       "      <th>recovered</th>\n",
       "      <th>todayRecovered</th>\n",
       "      <th>active</th>\n",
       "      <th>...</th>\n",
       "      <th>tests</th>\n",
       "      <th>testsPerOneMillion</th>\n",
       "      <th>population</th>\n",
       "      <th>continent</th>\n",
       "      <th>oneCasePerPeople</th>\n",
       "      <th>oneDeathPerPeople</th>\n",
       "      <th>oneTestPerPeople</th>\n",
       "      <th>activePerOneMillion</th>\n",
       "      <th>recoveredPerOneMillion</th>\n",
       "      <th>criticalPerOneMillion</th>\n",
       "    </tr>\n",
       "  </thead>\n",
       "  <tbody>\n",
       "    <tr>\n",
       "      <th>0</th>\n",
       "      <td>1750793065423</td>\n",
       "      <td>Afghanistan</td>\n",
       "      <td>{'_id': 4, 'iso2': 'AF', 'iso3': 'AFG', 'lat':...</td>\n",
       "      <td>234174</td>\n",
       "      <td>0</td>\n",
       "      <td>7996</td>\n",
       "      <td>0</td>\n",
       "      <td>211080</td>\n",
       "      <td>0</td>\n",
       "      <td>15098</td>\n",
       "      <td>...</td>\n",
       "      <td>1390730</td>\n",
       "      <td>34125</td>\n",
       "      <td>40754388</td>\n",
       "      <td>Asia</td>\n",
       "      <td>174</td>\n",
       "      <td>5097</td>\n",
       "      <td>29</td>\n",
       "      <td>370.46</td>\n",
       "      <td>5179.32</td>\n",
       "      <td>0.0</td>\n",
       "    </tr>\n",
       "    <tr>\n",
       "      <th>1</th>\n",
       "      <td>1750793065415</td>\n",
       "      <td>Albania</td>\n",
       "      <td>{'_id': 8, 'iso2': 'AL', 'iso3': 'ALB', 'lat':...</td>\n",
       "      <td>334863</td>\n",
       "      <td>0</td>\n",
       "      <td>3605</td>\n",
       "      <td>0</td>\n",
       "      <td>330233</td>\n",
       "      <td>0</td>\n",
       "      <td>1025</td>\n",
       "      <td>...</td>\n",
       "      <td>1941032</td>\n",
       "      <td>677173</td>\n",
       "      <td>2866374</td>\n",
       "      <td>Europe</td>\n",
       "      <td>9</td>\n",
       "      <td>795</td>\n",
       "      <td>1</td>\n",
       "      <td>357.59</td>\n",
       "      <td>115209.32</td>\n",
       "      <td>0.0</td>\n",
       "    </tr>\n",
       "    <tr>\n",
       "      <th>2</th>\n",
       "      <td>1750793065418</td>\n",
       "      <td>Algeria</td>\n",
       "      <td>{'_id': 12, 'iso2': 'DZ', 'iso3': 'DZA', 'lat'...</td>\n",
       "      <td>272010</td>\n",
       "      <td>0</td>\n",
       "      <td>6881</td>\n",
       "      <td>0</td>\n",
       "      <td>183061</td>\n",
       "      <td>0</td>\n",
       "      <td>82068</td>\n",
       "      <td>...</td>\n",
       "      <td>230960</td>\n",
       "      <td>5093</td>\n",
       "      <td>45350148</td>\n",
       "      <td>Africa</td>\n",
       "      <td>167</td>\n",
       "      <td>6591</td>\n",
       "      <td>196</td>\n",
       "      <td>1809.65</td>\n",
       "      <td>4036.61</td>\n",
       "      <td>0.0</td>\n",
       "    </tr>\n",
       "    <tr>\n",
       "      <th>3</th>\n",
       "      <td>1750793065472</td>\n",
       "      <td>Andorra</td>\n",
       "      <td>{'_id': 20, 'iso2': 'AD', 'iso3': 'AND', 'lat'...</td>\n",
       "      <td>48015</td>\n",
       "      <td>0</td>\n",
       "      <td>165</td>\n",
       "      <td>0</td>\n",
       "      <td>0</td>\n",
       "      <td>0</td>\n",
       "      <td>47850</td>\n",
       "      <td>...</td>\n",
       "      <td>249838</td>\n",
       "      <td>3225256</td>\n",
       "      <td>77463</td>\n",
       "      <td>Europe</td>\n",
       "      <td>2</td>\n",
       "      <td>469</td>\n",
       "      <td>0</td>\n",
       "      <td>617714.26</td>\n",
       "      <td>0.00</td>\n",
       "      <td>0.0</td>\n",
       "    </tr>\n",
       "    <tr>\n",
       "      <th>4</th>\n",
       "      <td>1750793065444</td>\n",
       "      <td>Angola</td>\n",
       "      <td>{'_id': 24, 'iso2': 'AO', 'iso3': 'AGO', 'lat'...</td>\n",
       "      <td>107327</td>\n",
       "      <td>0</td>\n",
       "      <td>1937</td>\n",
       "      <td>0</td>\n",
       "      <td>103419</td>\n",
       "      <td>0</td>\n",
       "      <td>1971</td>\n",
       "      <td>...</td>\n",
       "      <td>1499795</td>\n",
       "      <td>42818</td>\n",
       "      <td>35027343</td>\n",
       "      <td>Africa</td>\n",
       "      <td>326</td>\n",
       "      <td>18083</td>\n",
       "      <td>23</td>\n",
       "      <td>56.27</td>\n",
       "      <td>2952.52</td>\n",
       "      <td>0.0</td>\n",
       "    </tr>\n",
       "  </tbody>\n",
       "</table>\n",
       "<p>5 rows × 23 columns</p>\n",
       "</div>"
      ],
      "text/plain": [
       "         updated      country  \\\n",
       "0  1750793065423  Afghanistan   \n",
       "1  1750793065415      Albania   \n",
       "2  1750793065418      Algeria   \n",
       "3  1750793065472      Andorra   \n",
       "4  1750793065444       Angola   \n",
       "\n",
       "                                         countryInfo   cases  todayCases  \\\n",
       "0  {'_id': 4, 'iso2': 'AF', 'iso3': 'AFG', 'lat':...  234174           0   \n",
       "1  {'_id': 8, 'iso2': 'AL', 'iso3': 'ALB', 'lat':...  334863           0   \n",
       "2  {'_id': 12, 'iso2': 'DZ', 'iso3': 'DZA', 'lat'...  272010           0   \n",
       "3  {'_id': 20, 'iso2': 'AD', 'iso3': 'AND', 'lat'...   48015           0   \n",
       "4  {'_id': 24, 'iso2': 'AO', 'iso3': 'AGO', 'lat'...  107327           0   \n",
       "\n",
       "   deaths  todayDeaths  recovered  todayRecovered  active  ...    tests  \\\n",
       "0    7996            0     211080               0   15098  ...  1390730   \n",
       "1    3605            0     330233               0    1025  ...  1941032   \n",
       "2    6881            0     183061               0   82068  ...   230960   \n",
       "3     165            0          0               0   47850  ...   249838   \n",
       "4    1937            0     103419               0    1971  ...  1499795   \n",
       "\n",
       "   testsPerOneMillion  population  continent  oneCasePerPeople  \\\n",
       "0               34125    40754388       Asia               174   \n",
       "1              677173     2866374     Europe                 9   \n",
       "2                5093    45350148     Africa               167   \n",
       "3             3225256       77463     Europe                 2   \n",
       "4               42818    35027343     Africa               326   \n",
       "\n",
       "   oneDeathPerPeople oneTestPerPeople  activePerOneMillion  \\\n",
       "0               5097               29               370.46   \n",
       "1                795                1               357.59   \n",
       "2               6591              196              1809.65   \n",
       "3                469                0            617714.26   \n",
       "4              18083               23                56.27   \n",
       "\n",
       "   recoveredPerOneMillion  criticalPerOneMillion  \n",
       "0                 5179.32                    0.0  \n",
       "1               115209.32                    0.0  \n",
       "2                 4036.61                    0.0  \n",
       "3                    0.00                    0.0  \n",
       "4                 2952.52                    0.0  \n",
       "\n",
       "[5 rows x 23 columns]"
      ]
     },
     "execution_count": 11,
     "metadata": {},
     "output_type": "execute_result"
    }
   ],
   "source": [
    "import pandas as pd\n",
    "\n",
    "# Load the saved JSON file for analysis\n",
    "df2 = pd.read_json(\"data/raw_data.json\")\n",
    "df2.head()"
   ]
  },
  {
   "cell_type": "markdown",
   "id": "5efd9e14-05f5-4a23-9fb4-dee65cc9db3f",
   "metadata": {},
   "source": [
    "## Step 2: Inspect and Rename Columns"
   ]
  },
  {
   "cell_type": "code",
   "execution_count": 12,
   "id": "526d388e-8393-4c69-96a8-c1da7b4b283b",
   "metadata": {},
   "outputs": [],
   "source": [
    "df2 = df2.rename(columns=str.title)\n",
    "\n"
   ]
  },
  {
   "cell_type": "code",
   "execution_count": 13,
   "id": "3dc3f25f-3ec2-4555-a504-77e61b281462",
   "metadata": {},
   "outputs": [
    {
     "name": "stdout",
     "output_type": "stream",
     "text": [
      "['Updated', 'Country', 'Countryinfo', 'Cases', 'Todaycases', 'Deaths', 'Todaydeaths', 'Recovered', 'Todayrecovered', 'Active', 'Critical', 'Casesperonemillion', 'Deathsperonemillion', 'Tests', 'Testsperonemillion', 'Population', 'Continent', 'Onecaseperpeople', 'Onedeathperpeople', 'Onetestperpeople', 'Activeperonemillion', 'Recoveredperonemillion', 'Criticalperonemillion']\n"
     ]
    }
   ],
   "source": [
    "print(df2.columns.tolist())"
   ]
  },
  {
   "cell_type": "code",
   "execution_count": 14,
   "id": "f8a4ea78-4c13-4dd3-b095-49544e0d1326",
   "metadata": {},
   "outputs": [
    {
     "data": {
      "text/html": [
       "<div>\n",
       "<style scoped>\n",
       "    .dataframe tbody tr th:only-of-type {\n",
       "        vertical-align: middle;\n",
       "    }\n",
       "\n",
       "    .dataframe tbody tr th {\n",
       "        vertical-align: top;\n",
       "    }\n",
       "\n",
       "    .dataframe thead th {\n",
       "        text-align: right;\n",
       "    }\n",
       "</style>\n",
       "<table border=\"1\" class=\"dataframe\">\n",
       "  <thead>\n",
       "    <tr style=\"text-align: right;\">\n",
       "      <th></th>\n",
       "      <th>Updated</th>\n",
       "      <th>Country</th>\n",
       "      <th>Countryinfo</th>\n",
       "      <th>Cases</th>\n",
       "      <th>Todaycases</th>\n",
       "      <th>Deaths</th>\n",
       "      <th>Todaydeaths</th>\n",
       "      <th>Recovered</th>\n",
       "      <th>Todayrecovered</th>\n",
       "      <th>Active</th>\n",
       "      <th>...</th>\n",
       "      <th>Tests</th>\n",
       "      <th>Testsperonemillion</th>\n",
       "      <th>Population</th>\n",
       "      <th>Continent</th>\n",
       "      <th>Onecaseperpeople</th>\n",
       "      <th>Onedeathperpeople</th>\n",
       "      <th>Onetestperpeople</th>\n",
       "      <th>Activeperonemillion</th>\n",
       "      <th>Recoveredperonemillion</th>\n",
       "      <th>Criticalperonemillion</th>\n",
       "    </tr>\n",
       "  </thead>\n",
       "  <tbody>\n",
       "    <tr>\n",
       "      <th>0</th>\n",
       "      <td>1750793065423</td>\n",
       "      <td>Afghanistan</td>\n",
       "      <td>{'_id': 4, 'iso2': 'AF', 'iso3': 'AFG', 'lat':...</td>\n",
       "      <td>234174</td>\n",
       "      <td>0</td>\n",
       "      <td>7996</td>\n",
       "      <td>0</td>\n",
       "      <td>211080</td>\n",
       "      <td>0</td>\n",
       "      <td>15098</td>\n",
       "      <td>...</td>\n",
       "      <td>1390730</td>\n",
       "      <td>34125</td>\n",
       "      <td>40754388</td>\n",
       "      <td>Asia</td>\n",
       "      <td>174</td>\n",
       "      <td>5097</td>\n",
       "      <td>29</td>\n",
       "      <td>370.46</td>\n",
       "      <td>5179.32</td>\n",
       "      <td>0.0</td>\n",
       "    </tr>\n",
       "    <tr>\n",
       "      <th>1</th>\n",
       "      <td>1750793065415</td>\n",
       "      <td>Albania</td>\n",
       "      <td>{'_id': 8, 'iso2': 'AL', 'iso3': 'ALB', 'lat':...</td>\n",
       "      <td>334863</td>\n",
       "      <td>0</td>\n",
       "      <td>3605</td>\n",
       "      <td>0</td>\n",
       "      <td>330233</td>\n",
       "      <td>0</td>\n",
       "      <td>1025</td>\n",
       "      <td>...</td>\n",
       "      <td>1941032</td>\n",
       "      <td>677173</td>\n",
       "      <td>2866374</td>\n",
       "      <td>Europe</td>\n",
       "      <td>9</td>\n",
       "      <td>795</td>\n",
       "      <td>1</td>\n",
       "      <td>357.59</td>\n",
       "      <td>115209.32</td>\n",
       "      <td>0.0</td>\n",
       "    </tr>\n",
       "    <tr>\n",
       "      <th>2</th>\n",
       "      <td>1750793065418</td>\n",
       "      <td>Algeria</td>\n",
       "      <td>{'_id': 12, 'iso2': 'DZ', 'iso3': 'DZA', 'lat'...</td>\n",
       "      <td>272010</td>\n",
       "      <td>0</td>\n",
       "      <td>6881</td>\n",
       "      <td>0</td>\n",
       "      <td>183061</td>\n",
       "      <td>0</td>\n",
       "      <td>82068</td>\n",
       "      <td>...</td>\n",
       "      <td>230960</td>\n",
       "      <td>5093</td>\n",
       "      <td>45350148</td>\n",
       "      <td>Africa</td>\n",
       "      <td>167</td>\n",
       "      <td>6591</td>\n",
       "      <td>196</td>\n",
       "      <td>1809.65</td>\n",
       "      <td>4036.61</td>\n",
       "      <td>0.0</td>\n",
       "    </tr>\n",
       "    <tr>\n",
       "      <th>3</th>\n",
       "      <td>1750793065472</td>\n",
       "      <td>Andorra</td>\n",
       "      <td>{'_id': 20, 'iso2': 'AD', 'iso3': 'AND', 'lat'...</td>\n",
       "      <td>48015</td>\n",
       "      <td>0</td>\n",
       "      <td>165</td>\n",
       "      <td>0</td>\n",
       "      <td>0</td>\n",
       "      <td>0</td>\n",
       "      <td>47850</td>\n",
       "      <td>...</td>\n",
       "      <td>249838</td>\n",
       "      <td>3225256</td>\n",
       "      <td>77463</td>\n",
       "      <td>Europe</td>\n",
       "      <td>2</td>\n",
       "      <td>469</td>\n",
       "      <td>0</td>\n",
       "      <td>617714.26</td>\n",
       "      <td>0.00</td>\n",
       "      <td>0.0</td>\n",
       "    </tr>\n",
       "    <tr>\n",
       "      <th>4</th>\n",
       "      <td>1750793065444</td>\n",
       "      <td>Angola</td>\n",
       "      <td>{'_id': 24, 'iso2': 'AO', 'iso3': 'AGO', 'lat'...</td>\n",
       "      <td>107327</td>\n",
       "      <td>0</td>\n",
       "      <td>1937</td>\n",
       "      <td>0</td>\n",
       "      <td>103419</td>\n",
       "      <td>0</td>\n",
       "      <td>1971</td>\n",
       "      <td>...</td>\n",
       "      <td>1499795</td>\n",
       "      <td>42818</td>\n",
       "      <td>35027343</td>\n",
       "      <td>Africa</td>\n",
       "      <td>326</td>\n",
       "      <td>18083</td>\n",
       "      <td>23</td>\n",
       "      <td>56.27</td>\n",
       "      <td>2952.52</td>\n",
       "      <td>0.0</td>\n",
       "    </tr>\n",
       "  </tbody>\n",
       "</table>\n",
       "<p>5 rows × 23 columns</p>\n",
       "</div>"
      ],
      "text/plain": [
       "         Updated      Country  \\\n",
       "0  1750793065423  Afghanistan   \n",
       "1  1750793065415      Albania   \n",
       "2  1750793065418      Algeria   \n",
       "3  1750793065472      Andorra   \n",
       "4  1750793065444       Angola   \n",
       "\n",
       "                                         Countryinfo   Cases  Todaycases  \\\n",
       "0  {'_id': 4, 'iso2': 'AF', 'iso3': 'AFG', 'lat':...  234174           0   \n",
       "1  {'_id': 8, 'iso2': 'AL', 'iso3': 'ALB', 'lat':...  334863           0   \n",
       "2  {'_id': 12, 'iso2': 'DZ', 'iso3': 'DZA', 'lat'...  272010           0   \n",
       "3  {'_id': 20, 'iso2': 'AD', 'iso3': 'AND', 'lat'...   48015           0   \n",
       "4  {'_id': 24, 'iso2': 'AO', 'iso3': 'AGO', 'lat'...  107327           0   \n",
       "\n",
       "   Deaths  Todaydeaths  Recovered  Todayrecovered  Active  ...    Tests  \\\n",
       "0    7996            0     211080               0   15098  ...  1390730   \n",
       "1    3605            0     330233               0    1025  ...  1941032   \n",
       "2    6881            0     183061               0   82068  ...   230960   \n",
       "3     165            0          0               0   47850  ...   249838   \n",
       "4    1937            0     103419               0    1971  ...  1499795   \n",
       "\n",
       "   Testsperonemillion  Population  Continent  Onecaseperpeople  \\\n",
       "0               34125    40754388       Asia               174   \n",
       "1              677173     2866374     Europe                 9   \n",
       "2                5093    45350148     Africa               167   \n",
       "3             3225256       77463     Europe                 2   \n",
       "4               42818    35027343     Africa               326   \n",
       "\n",
       "   Onedeathperpeople Onetestperpeople  Activeperonemillion  \\\n",
       "0               5097               29               370.46   \n",
       "1                795                1               357.59   \n",
       "2               6591              196              1809.65   \n",
       "3                469                0            617714.26   \n",
       "4              18083               23                56.27   \n",
       "\n",
       "   Recoveredperonemillion  Criticalperonemillion  \n",
       "0                 5179.32                    0.0  \n",
       "1               115209.32                    0.0  \n",
       "2                 4036.61                    0.0  \n",
       "3                    0.00                    0.0  \n",
       "4                 2952.52                    0.0  \n",
       "\n",
       "[5 rows x 23 columns]"
      ]
     },
     "execution_count": 14,
     "metadata": {},
     "output_type": "execute_result"
    }
   ],
   "source": [
    "df2.head()"
   ]
  },
  {
   "cell_type": "markdown",
   "id": "93261f33-3116-4c75-81c2-7b9b6b9f15c7",
   "metadata": {},
   "source": [
    "## Step 3: Keep Only Selected Columns"
   ]
  },
  {
   "cell_type": "code",
   "execution_count": 15,
   "id": "f4d41a10-29aa-4f22-9b7d-4d473f21791b",
   "metadata": {},
   "outputs": [],
   "source": [
    "#For this project, we retain only the following columns from the dataset:\n",
    "## country\n",
    "## cases\n",
    "## deaths\n",
    "## recovered"
   ]
  },
  {
   "cell_type": "code",
   "execution_count": 16,
   "id": "6997e57e-180a-40dd-97e9-5753999e72db",
   "metadata": {},
   "outputs": [
    {
     "data": {
      "text/html": [
       "<div>\n",
       "<style scoped>\n",
       "    .dataframe tbody tr th:only-of-type {\n",
       "        vertical-align: middle;\n",
       "    }\n",
       "\n",
       "    .dataframe tbody tr th {\n",
       "        vertical-align: top;\n",
       "    }\n",
       "\n",
       "    .dataframe thead th {\n",
       "        text-align: right;\n",
       "    }\n",
       "</style>\n",
       "<table border=\"1\" class=\"dataframe\">\n",
       "  <thead>\n",
       "    <tr style=\"text-align: right;\">\n",
       "      <th></th>\n",
       "      <th>Country</th>\n",
       "      <th>Cases</th>\n",
       "      <th>Deaths</th>\n",
       "      <th>Recovered</th>\n",
       "    </tr>\n",
       "  </thead>\n",
       "  <tbody>\n",
       "    <tr>\n",
       "      <th>0</th>\n",
       "      <td>Afghanistan</td>\n",
       "      <td>234174</td>\n",
       "      <td>7996</td>\n",
       "      <td>211080</td>\n",
       "    </tr>\n",
       "    <tr>\n",
       "      <th>1</th>\n",
       "      <td>Albania</td>\n",
       "      <td>334863</td>\n",
       "      <td>3605</td>\n",
       "      <td>330233</td>\n",
       "    </tr>\n",
       "    <tr>\n",
       "      <th>2</th>\n",
       "      <td>Algeria</td>\n",
       "      <td>272010</td>\n",
       "      <td>6881</td>\n",
       "      <td>183061</td>\n",
       "    </tr>\n",
       "    <tr>\n",
       "      <th>3</th>\n",
       "      <td>Andorra</td>\n",
       "      <td>48015</td>\n",
       "      <td>165</td>\n",
       "      <td>0</td>\n",
       "    </tr>\n",
       "    <tr>\n",
       "      <th>4</th>\n",
       "      <td>Angola</td>\n",
       "      <td>107327</td>\n",
       "      <td>1937</td>\n",
       "      <td>103419</td>\n",
       "    </tr>\n",
       "  </tbody>\n",
       "</table>\n",
       "</div>"
      ],
      "text/plain": [
       "       Country   Cases  Deaths  Recovered\n",
       "0  Afghanistan  234174    7996     211080\n",
       "1      Albania  334863    3605     330233\n",
       "2      Algeria  272010    6881     183061\n",
       "3      Andorra   48015     165          0\n",
       "4       Angola  107327    1937     103419"
      ]
     },
     "execution_count": 16,
     "metadata": {},
     "output_type": "execute_result"
    }
   ],
   "source": [
    "columns_to_keep = [\"Country\", \"Cases\", \"Deaths\", \"Recovered\"]\n",
    "df2 = df2[columns_to_keep]\n",
    "df2.head()"
   ]
  },
  {
   "cell_type": "markdown",
   "id": "c9ab3d30-2d70-4768-9208-d971c2dc5c2b",
   "metadata": {},
   "source": [
    "## Step 4: Check for Missing Values"
   ]
  },
  {
   "cell_type": "code",
   "execution_count": 17,
   "id": "1ab26f31-6c05-4e76-94ad-a068095a2b81",
   "metadata": {},
   "outputs": [
    {
     "data": {
      "text/plain": [
       "Country      0\n",
       "Cases        0\n",
       "Deaths       0\n",
       "Recovered    0\n",
       "dtype: int64"
      ]
     },
     "execution_count": 17,
     "metadata": {},
     "output_type": "execute_result"
    }
   ],
   "source": [
    "df2.isnull().sum()\n",
    "# If you dont add the code \".sum()\" it will list all the table values and would tell \"True\" or \"False\" for each cell"
   ]
  },
  {
   "cell_type": "markdown",
   "id": "1be65d03-c35d-4187-b588-e9b0c1a9b333",
   "metadata": {},
   "source": [
    "## Step 5: Drop Rows with Missing Data"
   ]
  },
  {
   "cell_type": "code",
   "execution_count": 18,
   "id": "badbf920-fe9b-4032-9e37-76157c560f17",
   "metadata": {},
   "outputs": [],
   "source": [
    "#Here assuming that there were null rows"
   ]
  },
  {
   "cell_type": "code",
   "execution_count": 19,
   "id": "9f431c52-43cd-4cdf-9578-ca73e686d59e",
   "metadata": {},
   "outputs": [
    {
     "name": "stdout",
     "output_type": "stream",
     "text": [
      "Remaining rows after dropping nulls: 231\n"
     ]
    }
   ],
   "source": [
    "df_cleaned = df2.dropna()\n",
    "print(f\"Remaining rows after dropping nulls: {len(df_cleaned)}\")"
   ]
  },
  {
   "cell_type": "markdown",
   "id": "c97b3335-0de0-4964-88de-2950a8123d8d",
   "metadata": {},
   "source": [
    "## Step 6: Drop Duplicate Rows"
   ]
  },
  {
   "cell_type": "code",
   "execution_count": 20,
   "id": "a8559081-7003-4bb9-9651-f0ed77813cc1",
   "metadata": {},
   "outputs": [],
   "source": [
    "df2 = df2.drop_duplicates()"
   ]
  },
  {
   "cell_type": "markdown",
   "id": "40809955-005c-444e-bc13-a6277c6ec6e3",
   "metadata": {},
   "source": [
    "## Step 7: Clean Text Columns (Trim Spaces, Lowercase Country Names)"
   ]
  },
  {
   "cell_type": "code",
   "execution_count": 21,
   "id": "e12bce2a-ea4b-43dd-92c9-d0fb9da7a165",
   "metadata": {},
   "outputs": [
    {
     "data": {
      "text/plain": [
       "array(['Afghanistan', 'Albania', 'Algeria', 'Andorra', 'Angola',\n",
       "       'Anguilla', 'Antigua and Barbuda'], dtype=object)"
      ]
     },
     "execution_count": 21,
     "metadata": {},
     "output_type": "execute_result"
    }
   ],
   "source": [
    "#Preview original country values (before cleaning)\n",
    "df2[\"Country\"].unique()[:7]"
   ]
  },
  {
   "cell_type": "code",
   "execution_count": 22,
   "id": "600d49bc-c73d-4151-a3e5-b73d560f9318",
   "metadata": {},
   "outputs": [
    {
     "ename": "KeyError",
     "evalue": "'country'",
     "output_type": "error",
     "traceback": [
      "\u001b[31m---------------------------------------------------------------------------\u001b[39m",
      "\u001b[31mKeyError\u001b[39m                                  Traceback (most recent call last)",
      "\u001b[36mFile \u001b[39m\u001b[32m~\\AppData\\Roaming\\Python\\Python313\\site-packages\\pandas\\core\\indexes\\base.py:3805\u001b[39m, in \u001b[36mIndex.get_loc\u001b[39m\u001b[34m(self, key)\u001b[39m\n\u001b[32m   3804\u001b[39m \u001b[38;5;28;01mtry\u001b[39;00m:\n\u001b[32m-> \u001b[39m\u001b[32m3805\u001b[39m     \u001b[38;5;28;01mreturn\u001b[39;00m \u001b[38;5;28;43mself\u001b[39;49m\u001b[43m.\u001b[49m\u001b[43m_engine\u001b[49m\u001b[43m.\u001b[49m\u001b[43mget_loc\u001b[49m\u001b[43m(\u001b[49m\u001b[43mcasted_key\u001b[49m\u001b[43m)\u001b[49m\n\u001b[32m   3806\u001b[39m \u001b[38;5;28;01mexcept\u001b[39;00m \u001b[38;5;167;01mKeyError\u001b[39;00m \u001b[38;5;28;01mas\u001b[39;00m err:\n",
      "\u001b[36mFile \u001b[39m\u001b[32mindex.pyx:167\u001b[39m, in \u001b[36mpandas._libs.index.IndexEngine.get_loc\u001b[39m\u001b[34m()\u001b[39m\n",
      "\u001b[36mFile \u001b[39m\u001b[32mindex.pyx:196\u001b[39m, in \u001b[36mpandas._libs.index.IndexEngine.get_loc\u001b[39m\u001b[34m()\u001b[39m\n",
      "\u001b[36mFile \u001b[39m\u001b[32mpandas\\\\_libs\\\\hashtable_class_helper.pxi:7081\u001b[39m, in \u001b[36mpandas._libs.hashtable.PyObjectHashTable.get_item\u001b[39m\u001b[34m()\u001b[39m\n",
      "\u001b[36mFile \u001b[39m\u001b[32mpandas\\\\_libs\\\\hashtable_class_helper.pxi:7089\u001b[39m, in \u001b[36mpandas._libs.hashtable.PyObjectHashTable.get_item\u001b[39m\u001b[34m()\u001b[39m\n",
      "\u001b[31mKeyError\u001b[39m: 'country'",
      "\nThe above exception was the direct cause of the following exception:\n",
      "\u001b[31mKeyError\u001b[39m                                  Traceback (most recent call last)",
      "\u001b[36mCell\u001b[39m\u001b[36m \u001b[39m\u001b[32mIn[22]\u001b[39m\u001b[32m, line 5\u001b[39m\n\u001b[32m      1\u001b[39m \u001b[38;5;66;03m# Remove leading/trailing spaces from country names     \u001b[39;00m\n\u001b[32m      2\u001b[39m \u001b[38;5;66;03m### Strip extra spaces\u001b[39;00m\n\u001b[32m      3\u001b[39m \u001b[38;5;66;03m## assuming there are training spaces \u001b[39;00m\n\u001b[32m      4\u001b[39m \u001b[38;5;66;03m## and uncapitalized countries\u001b[39;00m\n\u001b[32m----> \u001b[39m\u001b[32m5\u001b[39m df2[\u001b[33m\"\u001b[39m\u001b[33mcountry\u001b[39m\u001b[33m\"\u001b[39m] = \u001b[43mdf2\u001b[49m\u001b[43m[\u001b[49m\u001b[33;43m\"\u001b[39;49m\u001b[33;43mcountry\u001b[39;49m\u001b[33;43m\"\u001b[39;49m\u001b[43m]\u001b[49m.where(df2[\u001b[33m\"\u001b[39m\u001b[33mcountry\u001b[39m\u001b[33m\"\u001b[39m].notnull(), \u001b[38;5;28;01mNone\u001b[39;00m) \n\u001b[32m      6\u001b[39m df2[\u001b[33m\"\u001b[39m\u001b[33mcountry\u001b[39m\u001b[33m\"\u001b[39m] = df2[\u001b[33m\"\u001b[39m\u001b[33mcountry\u001b[39m\u001b[33m\"\u001b[39m].str.strip().str.title()\n",
      "\u001b[36mFile \u001b[39m\u001b[32m~\\AppData\\Roaming\\Python\\Python313\\site-packages\\pandas\\core\\frame.py:4102\u001b[39m, in \u001b[36mDataFrame.__getitem__\u001b[39m\u001b[34m(self, key)\u001b[39m\n\u001b[32m   4100\u001b[39m \u001b[38;5;28;01mif\u001b[39;00m \u001b[38;5;28mself\u001b[39m.columns.nlevels > \u001b[32m1\u001b[39m:\n\u001b[32m   4101\u001b[39m     \u001b[38;5;28;01mreturn\u001b[39;00m \u001b[38;5;28mself\u001b[39m._getitem_multilevel(key)\n\u001b[32m-> \u001b[39m\u001b[32m4102\u001b[39m indexer = \u001b[38;5;28;43mself\u001b[39;49m\u001b[43m.\u001b[49m\u001b[43mcolumns\u001b[49m\u001b[43m.\u001b[49m\u001b[43mget_loc\u001b[49m\u001b[43m(\u001b[49m\u001b[43mkey\u001b[49m\u001b[43m)\u001b[49m\n\u001b[32m   4103\u001b[39m \u001b[38;5;28;01mif\u001b[39;00m is_integer(indexer):\n\u001b[32m   4104\u001b[39m     indexer = [indexer]\n",
      "\u001b[36mFile \u001b[39m\u001b[32m~\\AppData\\Roaming\\Python\\Python313\\site-packages\\pandas\\core\\indexes\\base.py:3812\u001b[39m, in \u001b[36mIndex.get_loc\u001b[39m\u001b[34m(self, key)\u001b[39m\n\u001b[32m   3807\u001b[39m     \u001b[38;5;28;01mif\u001b[39;00m \u001b[38;5;28misinstance\u001b[39m(casted_key, \u001b[38;5;28mslice\u001b[39m) \u001b[38;5;129;01mor\u001b[39;00m (\n\u001b[32m   3808\u001b[39m         \u001b[38;5;28misinstance\u001b[39m(casted_key, abc.Iterable)\n\u001b[32m   3809\u001b[39m         \u001b[38;5;129;01mand\u001b[39;00m \u001b[38;5;28many\u001b[39m(\u001b[38;5;28misinstance\u001b[39m(x, \u001b[38;5;28mslice\u001b[39m) \u001b[38;5;28;01mfor\u001b[39;00m x \u001b[38;5;129;01min\u001b[39;00m casted_key)\n\u001b[32m   3810\u001b[39m     ):\n\u001b[32m   3811\u001b[39m         \u001b[38;5;28;01mraise\u001b[39;00m InvalidIndexError(key)\n\u001b[32m-> \u001b[39m\u001b[32m3812\u001b[39m     \u001b[38;5;28;01mraise\u001b[39;00m \u001b[38;5;167;01mKeyError\u001b[39;00m(key) \u001b[38;5;28;01mfrom\u001b[39;00m\u001b[38;5;250m \u001b[39m\u001b[34;01merr\u001b[39;00m\n\u001b[32m   3813\u001b[39m \u001b[38;5;28;01mexcept\u001b[39;00m \u001b[38;5;167;01mTypeError\u001b[39;00m:\n\u001b[32m   3814\u001b[39m     \u001b[38;5;66;03m# If we have a listlike key, _check_indexing_error will raise\u001b[39;00m\n\u001b[32m   3815\u001b[39m     \u001b[38;5;66;03m#  InvalidIndexError. Otherwise we fall through and re-raise\u001b[39;00m\n\u001b[32m   3816\u001b[39m     \u001b[38;5;66;03m#  the TypeError.\u001b[39;00m\n\u001b[32m   3817\u001b[39m     \u001b[38;5;28mself\u001b[39m._check_indexing_error(key)\n",
      "\u001b[31mKeyError\u001b[39m: 'country'"
     ]
    }
   ],
   "source": [
    "# Remove leading/trailing spaces from country names     \n",
    "### Strip extra spaces\n",
    "## assuming there are training spaces \n",
    "## and uncapitalized countries\n",
    "df2[\"country\"] = df2[\"country\"].where(df2[\"country\"].notnull(), None) \n",
    "df2[\"country\"] = df2[\"country\"].str.strip().str.title()"
   ]
  },
  {
   "cell_type": "code",
   "execution_count": null,
   "id": "8977f3d9-3b91-4399-992e-87852a706793",
   "metadata": {},
   "outputs": [],
   "source": [
    "#Confirm cleaned names\n",
    "df2[\"country\"].unique()[:7]"
   ]
  },
  {
   "cell_type": "code",
   "execution_count": null,
   "id": "7d5a20c1-7c7a-47f6-98fb-9b5412eab70f",
   "metadata": {},
   "outputs": [],
   "source": [
    "df2.head()"
   ]
  },
  {
   "cell_type": "markdown",
   "id": "0e7e2377-9a0f-441e-8e7b-ab6f5739f8ce",
   "metadata": {},
   "source": [
    "## Step 8: Convert Numeric Columns to Integers"
   ]
  },
  {
   "cell_type": "code",
   "execution_count": null,
   "id": "5998e886-bf6e-4dfa-9b16-de0b3399c221",
   "metadata": {},
   "outputs": [],
   "source": [
    "df2[\"Cases\"] = df2[\"Cases\"].astype(int)\n",
    "df2[\"Deaths\"] = df2[\"Deaths\"].astype(int)\n",
    "df2[\"Recovered\"] = df2[\"Recovered\"].astype(int)"
   ]
  },
  {
   "cell_type": "markdown",
   "id": "67fa2574-8995-4932-8d22-74f4df73ab6d",
   "metadata": {},
   "source": [
    "## Step 9: Filter Countries with More Than 10,000 Cases"
   ]
  },
  {
   "cell_type": "code",
   "execution_count": null,
   "id": "ae9f2a91-be81-4c2e-a6c5-b651b73fdd8a",
   "metadata": {},
   "outputs": [],
   "source": [
    "df_filtered = df_cleaned[df_cleaned[\"Cases\"] > 10000]\n",
    "print(f\"Countries with more than 10,000 cases: {len(df_filtered)}\")\n",
    "df_filtered.head()"
   ]
  },
  {
   "cell_type": "code",
   "execution_count": null,
   "id": "9b88637c-d957-4eec-9a75-f53f000e7f61",
   "metadata": {},
   "outputs": [],
   "source": [
    "# to get the number of cases that have more than 10000 cases \n",
    "len(df_filtered)"
   ]
  },
  {
   "cell_type": "markdown",
   "id": "f3e0263e-e597-41a1-9f9a-e7858fbfca96",
   "metadata": {},
   "source": [
    "## Step 10: Extract Top 10 Countries by Case Count"
   ]
  },
  {
   "cell_type": "code",
   "execution_count": null,
   "id": "7af5a63d-8852-40a9-adf0-54bf71fd260e",
   "metadata": {},
   "outputs": [],
   "source": [
    "# To get the list of countries together with their other corresponding data \n",
    "top10=df_filtered.sort_values(by=\"cases\", ascending=False).head(10)\n",
    "top10"
   ]
  },
  {
   "cell_type": "code",
   "execution_count": null,
   "id": "5df34b73-9f37-428d-8608-f3376653ec76",
   "metadata": {},
   "outputs": [],
   "source": [
    "top10_countries = top10[\"country\"].tolist()"
   ]
  },
  {
   "cell_type": "code",
   "execution_count": null,
   "id": "0e51322c-648e-4d05-b7ec-e0f0da2ebe9c",
   "metadata": {},
   "outputs": [],
   "source": [
    "# to get the list of countrie s \n",
    "top10_countries"
   ]
  },
  {
   "cell_type": "markdown",
   "id": "05b20748-b4d4-4219-96ac-2f4ec247df91",
   "metadata": {},
   "source": [
    " ## Step 11: Save Cleaned Data to CSV"
   ]
  },
  {
   "cell_type": "code",
   "execution_count": null,
   "id": "ef070f70-d558-454b-b656-43f2e27c700a",
   "metadata": {},
   "outputs": [],
   "source": [
    "df_filtered.to_csv(\"data/cleaned_data.csv\", index=False)\n",
    "print(\" Cleaned data saved\")\n"
   ]
  },
  {
   "cell_type": "markdown",
   "id": "5c7fb9bf-a90b-4763-9d65-1da1b2f4a5f8",
   "metadata": {},
   "source": [
    "# C. Exploration and Analysis \n"
   ]
  },
  {
   "cell_type": "code",
   "execution_count": null,
   "id": "23d9f5e4-c576-4ec2-b06b-a97287205d25",
   "metadata": {},
   "outputs": [],
   "source": [
    " ## Step 1: Load cleaned_data.csv"
   ]
  },
  {
   "cell_type": "code",
   "execution_count": null,
   "id": "8a370ccb-4fa9-42c7-99d3-b9d9d044469b",
   "metadata": {},
   "outputs": [],
   "source": [
    "!pip install seaborn -q\n",
    "import pandas as pd\n",
    "import matplotlib.pyplot as plt\n",
    "import seaborn as sns\n",
    "\n",
    "dfc = pd.read_csv(\"data/cleaned_data.csv\") ## dfc stands for Data Frame in CSV Format\n",
    "dfc.head()"
   ]
  },
  {
   "cell_type": "markdown",
   "id": "9278dc6d-aea3-42ec-9b50-66fca5c95cb1",
   "metadata": {},
   "source": [
    "## Step 2: Basic Data Overview"
   ]
  },
  {
   "cell_type": "code",
   "execution_count": null,
   "id": "3c90a76c-568e-4ac4-899d-4ce1d69a0969",
   "metadata": {},
   "outputs": [],
   "source": [
    "import numpy as np\n",
    "\n",
    "# Basic Pandas overview\n",
    "# To print the the number of rows and Columns \n",
    "print(\"Shape:\", df.shape)\n",
    "# To print the names the columns in list format put down on a lsit\n",
    "print(\"\\nColumn Names:\", df.columns.tolist())\n",
    "# To print the data Types of each Column \n",
    "print(\"\\nData Types:\\n\", df.dtypes)\n",
    "\n",
    "# NumPy array conversion-helps faster and more efficient for numerical operations .We can do it depending on the type of operations we 'd like to do\n",
    "numeric_array = dfc.select_dtypes(include=[np.number]).to_numpy()\n",
    "print(\"\\nConverted numeric DataFrame to NumPy array with shape:\", numeric_array.shape)"
   ]
  },
  {
   "cell_type": "markdown",
   "id": "8c3afe33-0a18-4bdf-b6a3-2be57c549818",
   "metadata": {},
   "source": [
    "## Step 3: Missing Values Check"
   ]
  },
  {
   "cell_type": "code",
   "execution_count": null,
   "id": "d0742ba7-b574-4c78-8108-e7c4ec4f1cd5",
   "metadata": {},
   "outputs": [],
   "source": [
    "print(dfc.isnull().sum())"
   ]
  },
  {
   "cell_type": "markdown",
   "id": "de4f7372-af92-4e56-b314-9e73c496ba9e",
   "metadata": {},
   "source": [
    "# Step 4: Check for Duplicate Rows"
   ]
  },
  {
   "cell_type": "code",
   "execution_count": null,
   "id": "f44703f1-ff9b-413d-a055-54aac7a967fa",
   "metadata": {},
   "outputs": [],
   "source": [
    "print(dfc.duplicated().sum())"
   ]
  },
  {
   "cell_type": "markdown",
   "id": "3286822f-fdff-481f-b46d-05d850bffed4",
   "metadata": {},
   "source": [
    "## Step 5: Summary Statistics"
   ]
  },
  {
   "cell_type": "code",
   "execution_count": null,
   "id": "92691be3-79fe-4593-9069-a296c59d3297",
   "metadata": {},
   "outputs": [],
   "source": [
    "# Pandas describe for comparison\n",
    "print(dfc.describe())\n",
    "\n",
    "import numpy as np\n",
    "# NumPy statistics\n",
    "numeric_data = dfc.select_dtypes(include=[np.number])\n",
    "\n",
    "print(\"\\nNumPy Mean:\\n\", np.mean(numeric_data, axis=0))\n",
    "print(\"\\nNumPy Median:\\n\", np.median(numeric_data, axis=0))\n",
    "print(\"\\nNumPy Std Dev:\\n\", np.std(numeric_data, axis=0))\n",
    "print(\"\\nNumPy 25th Percentile:\\n\", np.percentile(numeric_data, 25, axis=0))\n",
    "print(\"\\nNumPy 75th Percentile:\\n\", np.percentile(numeric_data, 75, axis=0))"
   ]
  },
  {
   "cell_type": "markdown",
   "id": "bdc8c716-a10c-44b5-b0bf-caaa600fcffc",
   "metadata": {},
   "source": [
    "## Step 6: Univariate Analysis (e.g Total Cases)"
   ]
  },
  {
   "cell_type": "code",
   "execution_count": null,
   "id": "8c7aa1aa-e889-4b93-9ab8-68a2fa0f0dcd",
   "metadata": {
    "scrolled": true
   },
   "outputs": [],
   "source": [
    "import matplotlib.pyplot as plt\n",
    "plt.close('all')\n",
    "\n",
    "from IPython.display import clear_output\n",
    "\n",
    "clear_output(wait=True)  # Clears the previous output in the notebook cell\n",
    "\n",
    "\n",
    "##  to make our  histogram and  make our  histogram understandable we add axes labels \n",
    "axes=dfc[[\"Cases\", \"Deaths\" ,\"Recovered\"]].hist(figsize=(12,5))\n",
    "for ax in axes.flatten():\n",
    "    ax.set_xlabel(\"Value\")\n",
    "    ax.set_ylabel(\"Frequecy\")\n",
    "plt.tight_layout()\n",
    "plt.show()\n",
    "fig.savefig('images/bar_plot_frequency_and_vales_of_Cases_Death_Recovered.png')\n",
    "print(\"Figure saved to images/bar_plot_frequency_and_vales_of_Cases_Death_Recovered.png\")\n"
   ]
  },
  {
   "cell_type": "markdown",
   "id": "f24ebb10-5c6e-4702-a95d-810c1e893bfe",
   "metadata": {},
   "source": [
    "## Step 7: Bivariate Analysis"
   ]
  },
  {
   "cell_type": "code",
   "execution_count": null,
   "id": "4bcc0aea-5000-4327-a499-890d55ff3666",
   "metadata": {},
   "outputs": [],
   "source": [
    "sns.scatterplot(data=dfc, x=\"Cases\", y=\"Deaths\")\n",
    "plt.title(\"Cases vs. Deaths\")\n",
    "plt.show()\n",
    "\n",
    "sns.scatterplot(data=dfc, x=\"Cases\", y='Recovered')\n",
    "plt.title(\"Cases vs. Recovered\")\n",
    "plt.show()\n",
    "\n",
    "fig.savefig('images/scatter_plot_cases_versus_deaths.png')\n",
    "print(\"Figure saved to images/scatter_plot_cases_versus_deaths.png\")\n"
   ]
  },
  {
   "cell_type": "code",
   "execution_count": null,
   "id": "822ea7ec-ea64-4d72-9505-0e045bed6212",
   "metadata": {},
   "outputs": [],
   "source": [
    "# scatter plotting using different colors \n",
    "import matplotlib.pyplot as plt\n",
    "\n",
    "x = dfc.index  # or your Date column if you have one\n",
    "\n",
    "fig, ax1 = plt.subplots(figsize=(8,5))\n",
    "\n",
    "# Plot Cases on left y-axis\n",
    "ax1.scatter(x, dfc['Cases'], color='blue', label='Cases', alpha=0.6)\n",
    "ax1.set_xlabel('Record Number')\n",
    "ax1.set_ylabel('Total Cases', color='blue')\n",
    "ax1.tick_params(axis='y', labelcolor='blue')\n",
    "\n",
    "# Create a second y-axis for Deaths\n",
    "ax2 = ax1.twinx()\n",
    "ax2.scatter(x, dfc['Deaths'], color='red', label='Deaths', alpha=0.6)\n",
    "ax2.set_ylabel('Total Deaths', color='red')\n",
    "ax2.tick_params(axis='y', labelcolor='red')\n",
    "\n",
    "plt.title('COVID Cases (blue) vs Deaths (red)')\n",
    "fig.tight_layout()\n",
    "plt.show()\n",
    "\n",
    "fig.savefig('images/scatter_plot_with_colors.png')\n",
    "print(\"Figure saved to images/scatter_plot_with_color.png\")"
   ]
  },
  {
   "cell_type": "markdown",
   "id": "41c060bb-f97c-4dfb-bced-89e06962ee4d",
   "metadata": {},
   "source": [
    "## Step 8 : Outlier Detection (Simple View)"
   ]
  },
  {
   "cell_type": "code",
   "execution_count": null,
   "id": "d4004c29-8ffc-4fe0-8a4d-af762fd0ce80",
   "metadata": {},
   "outputs": [],
   "source": [
    "!pip install scipy -q\n",
    "from scipy.stats import zscore\n",
    "\n",
    "plt.figure(figsize=(10, 4))\n",
    "sns.boxplot(data=dfc[[\"Cases\", \"Deaths\", \"Recovered\"]])\n",
    "plt.title(\"Boxplot of Case Metrics\")\n",
    "plt.show()\n",
    "\n",
    "# NumPy-based Z-score calculation\n",
    "z_scores = zscore(dfc[[\"Cases\", \"Deaths\", \"Recovered\"]])\n",
    "outliers = (np.abs(z_scores) > 3).any(axis=1)\n",
    "print(f\"Number of outliers (Z-score > 3): {outliers.sum()}\")\n",
    "\n",
    "fig.savefig('images/box_plot_cases_outliers.png')\n",
    "print(\"Figure saved to images/box_plot_cases_outliers.png\")"
   ]
  },
  {
   "cell_type": "markdown",
   "id": "1340a6e3-2b07-4960-9059-0a1e19a66420",
   "metadata": {},
   "source": [
    "## Step 9 Correlation Matrix"
   ]
  },
  {
   "cell_type": "code",
   "execution_count": null,
   "id": "ba2b070f-5a3d-4a74-acc1-dd0927f904c2",
   "metadata": {},
   "outputs": [],
   "source": [
    "plt.figure(figsize=(8, 6))\n",
    "subset=dfc[[\"Cases\",\"Deaths\",\"Recovered\",\"Active\"]]\n",
    "sns.heatmap(subset.corr(numeric_only=True), annot=True, cmap=\"coolwarm\", fmt=\".2f\")\n",
    "plt.title(\"Correlation Matrix\")\n",
    "plt.show()"
   ]
  },
  {
   "cell_type": "code",
   "execution_count": null,
   "id": "4d45eb6e-01c3-4d70-b288-9369705d08d0",
   "metadata": {},
   "outputs": [],
   "source": [
    "# Pandas correlation \n",
    "plt.figure(figsize=(8, 6))\n",
    "sns.heatmap(dfc[[\"Cases\", \"Deaths\",\"Recovered\"]].corr(numeric_only=True), annot=True, cmap=\"coolwarm\", fmt=\".2f\")\n",
    "plt.title(\"Correlation Matrix\")\n",
    "plt.show()\n",
    "\n",
    "# NumPy correlation matrix (as alternative)\n",
    "corr_matrix = np.corrcoef(dfc[[\"Cases\", \"Deaths\", \"Recovered\"]].to_numpy().T)\n",
    "print(\"NumPy Correlation Matrix:\\n\", corr_matrix)\n",
    "\n",
    "fig.savefig('images/heat_map_cases_correlation.png')\n",
    "print(\"Figure saved to images/heat_map_correlation.png\")"
   ]
  },
  {
   "cell_type": "markdown",
   "id": "92781145-831c-487c-8d8a-0d19ef953b4e",
   "metadata": {},
   "source": [
    "## Step 10: Feature Engineering – Mortality Rate"
   ]
  },
  {
   "cell_type": "code",
   "execution_count": null,
   "id": "a47f5779-c09d-4de7-82f5-b866cb192461",
   "metadata": {},
   "outputs": [],
   "source": [
    "# Creating New Feature \"Mortality Rate\" Using Pandas  \n",
    "dfc[\"Mortality_Rate\"] = dfc[\"Deaths\"] / dfc[\"Cases\"]\n",
    "dfc[[\"Country\", \"Cases\", \"Deaths\", \"Mortality_Rate\"]].head()\n",
    "\n",
    "\n",
    "# Creating New Feature \"Active Cases\" Using Numpy  \n",
    "#New feature: Active Cases = Cases - Deaths - Recovered\n",
    "cases = dfc[\"Cases\"].to_numpy()\n",
    "deaths = dfc[\"Deaths\"].to_numpy()\n",
    "recovered = dfc[\"Recovered\"].to_numpy()\n",
    "\n",
    "active_cases = cases - deaths - recovered\n",
    "dfc[\"Active_Cases\"] = active_cases\n",
    "\n",
    "dfc[[\"Country\", \"Active_Cases\"]].head()"
   ]
  },
  {
   "cell_type": "code",
   "execution_count": null,
   "id": "cd16e9de-ae37-4338-a045-676d5549f89b",
   "metadata": {},
   "outputs": [],
   "source": [
    "# NumPy-based top/bottom mortality rates\n",
    "non_zero = dfc[\"Mortality_Rate\"] > 0\n",
    "mortality_array = dfc[\"Mortality_Rate\"].to_numpy()\n",
    "\n",
    "highest_idx = np.argmax(mortality_array)\n",
    "lowest_idx = np.argmin(np.where(non_zero, mortality_array, np.inf))\n",
    "\n",
    "print(\"🔴 Highest Mortality Rate Country:\")\n",
    "print(dfc.loc[highest_idx, [\"Country\", \"Mortality_Rate\"]])\n",
    "\n",
    "print(\"\\n🟢 Lowest (Non-zero) Mortality Rate Country:\")\n",
    "print(dfc.loc[lowest_idx, [\"Country\", \"Mortality_Rate\"]])"
   ]
  },
  {
   "cell_type": "markdown",
   "id": "95cf6941-760e-47a9-bd1a-e9f28a1b7740",
   "metadata": {},
   "source": [
    "## Step 11: Print Countries with Highest and Lowest Mortality"
   ]
  },
  {
   "cell_type": "code",
   "execution_count": null,
   "id": "26182a55-6689-4834-8cd5-29321fb6ad39",
   "metadata": {},
   "outputs": [],
   "source": [
    "highest = dfc.sort_values(by=\"Mortality_Rate\", ascending=False).head(5)\n",
    "lowest = dfc[dfc[\"Mortality_Rate\"] > 0].sort_values(by=\"Mortality_Rate\").head(5)\n",
    "\n",
    "print(\"🔴 Highest Mortality:\")\n",
    "print(highest[[\"Country\", \"Mortality_Rate\"]])\n",
    "\n",
    "print(\"\\n🟢 Lowest Mortality (non-zero):\")\n",
    "print(lowest[[\"Country\", \"Mortality_Rate\"]])"
   ]
  },
  {
   "cell_type": "markdown",
   "id": "3f4b9f78-3724-4687-a3a5-e248abc8ad77",
   "metadata": {},
   "source": [
    "## Step 12: Final Save"
   ]
  },
  {
   "cell_type": "code",
   "execution_count": null,
   "id": "3b599f18-9645-4e1c-9a51-b6e6b170178a",
   "metadata": {},
   "outputs": [],
   "source": [
    "dfc.to_csv(\"data/with_mortality_and_active_cases.csv\", index=False)\n",
    "print(\"✅ Saved updated data to data/with_mortality_and_active_cases.csv\")"
   ]
  },
  {
   "cell_type": "markdown",
   "id": "38119919-e777-4315-b793-d053a39ed963",
   "metadata": {},
   "source": [
    "# D. OTHER VISUALIZATIONS"
   ]
  },
  {
   "cell_type": "code",
   "execution_count": null,
   "id": "eca24f3b-1f4d-4672-976d-65108f0a5727",
   "metadata": {},
   "outputs": [],
   "source": [
    "# Load your COVID dataset\n",
    "# For the sake of convinience we we will name the data frame of the visualization dfv(Data Frame of Visualization)\n",
    "dfv = pd.read_csv(\"data/with_mortality_and_active_cases.csv\")\n",
    "dfv.head()"
   ]
  },
  {
   "cell_type": "markdown",
   "id": "17db88dc-ffb1-45d1-b934-4245fe7df60b",
   "metadata": {},
   "source": [
    "## Line Plots - To see how the variables change continuously "
   ]
  },
  {
   "cell_type": "code",
   "execution_count": null,
   "id": "82e99ea7-945b-4bfb-a4fe-0d91f8d48f21",
   "metadata": {},
   "outputs": [],
   "source": [
    "## Line plot to see time progression  with time \n",
    "## In the case of the data worked on this project the original data does not have \"Date\" Column\n",
    "##For the sake of giving meaning to the line plot we'll give introduce a date column do depict a line plot \n",
    "\n",
    "dfv[\"Date\"]=pd.date_range(start='2020-01-01',periods=len(dfv),freq='D' )\n",
    "dfv[\"Date\"].head()\n"
   ]
  },
  {
   "cell_type": "code",
   "execution_count": null,
   "id": "5b99e2a9-3e78-40fe-a7ce-484d369e66b3",
   "metadata": {},
   "outputs": [],
   "source": [
    "fig, ax = plt.subplots(figsize=(10, 6))\n",
    "\n",
    "sns.lineplot(data=dfv, x='Date', y='Cases', label='Total Cases', ax=ax)\n",
    "sns.lineplot(data=dfv, x='Date', y='Deaths', label='Total Deaths', ax=ax)\n",
    "\n",
    "ax.set_title('Total Cases vs Total Deaths Over Time')\n",
    "ax.set_xlabel('Date')\n",
    "ax.set_ylabel('Count')\n",
    "ax.legend()\n",
    "\n",
    "fig.tight_layout()\n",
    "fig.savefig('images/line_plot_progression.png')\n",
    "print(\"Figure saved to images/line_plot_progression.png\")\n",
    "\n",
    "plt.show()"
   ]
  },
  {
   "cell_type": "markdown",
   "id": "d23dbff9-db5a-417f-a0c3-4eec29248068",
   "metadata": {},
   "source": [
    "## Pie Charts- showing shares of particular cases over a total "
   ]
  },
  {
   "cell_type": "code",
   "execution_count": null,
   "id": "ac5407d5-548a-418a-b569-3b41810565bd",
   "metadata": {},
   "outputs": [],
   "source": [
    "continent_cases = dfv.groupby('Continent')['Cases'].sum()\n",
    "\n",
    "fig, ax=plt.subplots(figsize=(8, 8))\n",
    "ax.pie(continent_cases, labels=continent_cases.index, autopct='%1.1f%%', startangle=140)\n",
    "ax.set_title('COVID Total Cases Distribution by Continent')\n",
    "plt.show\n",
    "\n",
    "fig.savefig('images/pie_chart_percentage_shares_bycontinenet.png')\n",
    "print(\"Figure saved to images/pie_chart_percentage_shares_bycontinenet.png\")"
   ]
  },
  {
   "cell_type": "markdown",
   "id": "c7d17f2f-5222-4556-99ed-205a94bc0474",
   "metadata": {},
   "source": [
    "## SAVING PLOTS"
   ]
  },
  {
   "cell_type": "code",
   "execution_count": null,
   "id": "757c8615-a200-4889-91ea-8959d6bf042e",
   "metadata": {},
   "outputs": [],
   "source": [
    "## saving plots can be done when ever plots where madelike we did in the abobe plots \n",
    "## here one saving is shown for th esake of example \n",
    "fig.savefig('images/cases_deaths_plots.png')\n",
    "print(\"Figure saved to images/total_cases_distribution.png\")"
   ]
  },
  {
   "cell_type": "markdown",
   "id": "495faf93-d8f3-4a28-b309-ced345b82d65",
   "metadata": {},
   "source": [
    "# E. Basic Modularization"
   ]
  },
  {
   "cell_type": "markdown",
   "id": "24866dfe-98ac-4cd6-964d-b85be48932d0",
   "metadata": {},
   "source": [
    "## Define Utility Functions "
   ]
  },
  {
   "cell_type": "code",
   "execution_count": null,
   "id": "6fad0c56-3594-4813-ba20-bcc0689026ef",
   "metadata": {},
   "outputs": [],
   "source": [
    "def load_data(filepath):\n",
    "    \"\"\"\n",
    "    Load and return the COVID dataset.\n",
    "    \"\"\"\n",
    "    return pd.read_csv(filepath)\n",
    "\n",
    "\n",
    "def save_plot(fig, filename, folder=\"images\"):\n",
    "    \"\"\"\n",
    "    Save a matplotlib figure with tight layout.\n",
    "    \"\"\"\n",
    "    fig.tight_layout()\n",
    "    path = f\"{folder}/{filename}.png\"\n",
    "    fig.savefig(path)\n",
    "    print(f\"Saved plot to {path}\")\n",
    "\n",
    "\n",
    "def plot_bar_top_countries(df, column='Cases', top_n=10):\n",
    "    \"\"\"\n",
    "    Bar chart of top N countries by a specific column.\n",
    "    \"\"\"\n",
    "    top_countries = df.sort_values(by=column, ascending=False).head(top_n)\n",
    "    fig, ax = plt.subplots(figsize=(10, 6))\n",
    "    sns.barplot(data=top_countries, x='Country', y=column, ax=ax)\n",
    "    ax.set_title(f'Top {top_n} Countries by {column}')\n",
    "    ax.set_xlabel('Country')\n",
    "    ax.set_ylabel(column)\n",
    "    save_plot(fig, f\"bar_top_{top_n}_{column.lower()}\")\n",
    "    plt.show()"
   ]
  },
  {
   "cell_type": "code",
   "execution_count": null,
   "id": "28fb6014-04e5-481f-abca-2f56e68c3b29",
   "metadata": {},
   "outputs": [],
   "source": [
    "def plot_box(df, columns):\n",
    "    \"\"\"\n",
    "    Boxplot for selected numeric columns.\n",
    "    \"\"\"\n",
    "    fig, ax = plt.subplots(figsize=(10, 6))\n",
    "    sns.boxplot(data=df[columns], ax=ax)\n",
    "    ax.set_title('Boxplot for Selected Columns')\n",
    "    save_plot(fig, \"boxplot_selected_columns\")\n",
    "    plt.show()"
   ]
  },
  {
   "cell_type": "code",
   "execution_count": null,
   "id": "35504834-3259-40fc-b101-5cc87fbc45fa",
   "metadata": {},
   "outputs": [],
   "source": [
    "def plot_heatmap(df, columns):\n",
    "    \"\"\"\n",
    "    Correlation heatmap of selected numeric columns.\n",
    "    \"\"\"\n",
    "    corr = df[columns].corr()\n",
    "    fig, ax = plt.subplots(figsize=(10, 8))\n",
    "    sns.heatmap(corr, annot=True, cmap=\"coolwarm\", ax=ax)\n",
    "    ax.set_title('Correlation Heatmap')\n",
    "    save_plot(fig, \"heatmap_correlation\")\n",
    "    plt.show()"
   ]
  },
  {
   "cell_type": "code",
   "execution_count": null,
   "id": "eb4cf613-9de9-421d-93df-18378502bfef",
   "metadata": {},
   "outputs": [],
   "source": [
    "def plot_pie_by_group(df, group_col, value_col):\n",
    "    \"\"\"\n",
    "    Pie chart showing distribution of values by group.\n",
    "    \"\"\"\n",
    "    group_sum = df.groupby(group_col)[value_col].sum()\n",
    "    fig, ax = plt.subplots(figsize=(8, 8))\n",
    "    ax.pie(group_sum, labels=group_sum.index, autopct='%1.1f%%', startangle=140)\n",
    "    ax.set_title(f'{value_col} Distribution by {group_col}')\n",
    "    save_plot(fig, f\"pie_{value_col.lower()}_by_{group_col.lower()}\")\n",
    "    plt.show()"
   ]
  },
  {
   "cell_type": "code",
   "execution_count": null,
   "id": "b6541ed5-01f2-46f0-bc3b-aa5ba65c38d3",
   "metadata": {},
   "outputs": [],
   "source": [
    "def plot_scatter(df, x_col, y_col, hue_col=None):\n",
    "    \"\"\"\n",
    "    Scatter plot with optional hue for category-based color coding.\n",
    "    \"\"\"\n",
    "    fig, ax = plt.subplots(figsize=(8, 6))\n",
    "    sns.scatterplot(data=df, x=x_col, y=y_col, hue=hue_col, ax=ax)\n",
    "    ax.set_title(f'{y_col} vs {x_col}')\n",
    "    save_plot(fig, f\"scatter_{y_col.lower()}_vs_{x_col.lower()}\")\n",
    "    plt.show()"
   ]
  },
  {
   "cell_type": "code",
   "execution_count": null,
   "id": "f93130be-872a-4dd9-8890-cce4b07563a9",
   "metadata": {},
   "outputs": [],
   "source": [
    "# Load your data\n",
    "df = load_data(\"data/with_mortality_and_active_cases.csv\")\n",
    "\n",
    "# Run key visualizations\n",
    "plot_bar_top_countries(df, column='Cases')\n",
    "plot_box(df, ['Cases', 'Deaths'])\n",
    "plot_heatmap(df, ['Cases', 'Deaths', 'Recovered'])  # Adjust columns to what you have\n",
    "plot_pie_by_group(df, group_col='Continent', value_col='Cases')\n",
    "plot_scatter(df, x_col='Cases', y_col='Deaths')  # You can add hue='Continent' if needed"
   ]
  },
  {
   "cell_type": "markdown",
   "id": "a7f4ce89-b014-4430-868e-997e8a612c8f",
   "metadata": {},
   "source": [
    "# F. Final Project Assembly"
   ]
  },
  {
   "cell_type": "markdown",
   "id": "5598b290-49ed-4f2e-a284-06edeee5fe8d",
   "metadata": {},
   "source": [
    "## Create run_all.py and import modules "
   ]
  },
  {
   "cell_type": "code",
   "execution_count": null,
   "id": "43508dbb-c71a-4455-9da1-fc0e2441df05",
   "metadata": {},
   "outputs": [],
   "source": [
    "\"\"\"\n",
    "run_all.py\n",
    "\n",
    "Entry-level script to load, clean, feature-engineer, visualize, and save plots\n",
    "for the COVID summary dataset—all in one place.\n",
    "\"\"\"\n",
    "\n",
    "import os\n",
    "import pandas as pd\n",
    "import matplotlib.pyplot as plt\n",
    "import seaborn as sns\n",
    "\n",
    "# 1) Load & Clean\n",
    "df = pd.read_csv(\"data/cleaned_data.csv\")\n",
    "df = df.dropna()  # simple clean: drop missing\n",
    "\n",
    "# 2) Feature Engineering\n",
    "df[\"Mortality_Rate\"] = df[\"Deaths\"] / df[\"Cases\"]\n",
    "df[\"Active_Cases\"]   = df[\"Cases\"] - df[\"Deaths\"] - df[\"Recovered\"]\n",
    "\n",
    "# Ensure images folder exists\n",
    "os.makedirs(\"images\", exist_ok=True)\n",
    "\n",
    "# 3) Visualizations\n",
    "\n",
    "# A) Bar chart of top 10 by cases\n",
    "top10 = df.sort_values(\"Cases\", ascending=False).head(10)\n",
    "plt.figure(figsize=(8,5))\n",
    "sns.barplot(data=top10, x=\"Country\", y=\"Cases\")\n",
    "plt.xticks(rotation=45)\n",
    "plt.title(\"Top 10 Countries by Total Cases\")\n",
    "plt.tight_layout()\n",
    "plt.savefig(\"images/top10_cases.png\")\n",
    "plt.close()\n",
    "\n",
    "# B) Scatter cases vs deaths\n",
    "plt.figure(figsize=(6,6))\n",
    "sns.scatterplot(data=df, x=\"Cases\", y=\"Deaths\")\n",
    "plt.title(\"Cases vs Deaths\")\n",
    "plt.tight_layout()\n",
    "plt.savefig(\"images/scatter_cases_deaths.png\")\n",
    "plt.close()\n",
    "\n",
    "# C) Heatmap of correlations\n",
    "plt.figure(figsize=(6,5))\n",
    "sns.heatmap(df[[\"Cases\",\"Deaths\",\"Recovered\",\"Mortality_Rate\",\"Active_Cases\"]].corr(),\n",
    "            annot=True, fmt=\".2f\", cmap=\"coolwarm\")\n",
    "plt.title(\"Correlation Matrix\")\n",
    "plt.tight_layout()\n",
    "plt.savefig(\"images/correlation_heatmap.png\")\n",
    "plt.close()\n",
    "\n",
    "print(\"✅ All plots saved in the images/ folder\")"
   ]
  },
  {
   "cell_type": "markdown",
   "id": "38ba7b47-a3a6-4a5f-89d2-c5520f2003ea",
   "metadata": {},
   "source": [
    "## Run_end_to_end_Verify"
   ]
  },
  {
   "cell_type": "code",
   "execution_count": null,
   "id": "0c77966a-6d4e-4e2f-b654-e1bc0aa85fbe",
   "metadata": {},
   "outputs": [],
   "source": [
    "import os\n",
    "print(\"Working dir:\", os.getcwd())\n",
    "print(\"Top-level files:\", os.listdir(\".\"))\n",
    "print(\"modules/ contains:\", os.listdir(\"modules\"))"
   ]
  },
  {
   "cell_type": "code",
   "execution_count": null,
   "id": "6d61cd6e-ebe2-48bb-a0e0-621bc99fc3e8",
   "metadata": {},
   "outputs": [],
   "source": [
    "from modules.api_fetch import fetch_covid_data\n",
    "print(fetch_covid_data)"
   ]
  },
  {
   "cell_type": "code",
   "execution_count": 24,
   "id": "5aa98638-d3fb-43ec-99ab-3c1cc29152a9",
   "metadata": {},
   "outputs": [
    {
     "name": "stdout",
     "output_type": "stream",
     "text": [
      "Index(['Updated', 'Country', 'Countryinfo', 'Cases', 'Todaycases', 'Deaths',\n",
      "       'Todaydeaths', 'Recovered', 'Todayrecovered', 'Active', 'Critical',\n",
      "       'Casesperonemillion', 'Deathsperonemillion', 'Tests',\n",
      "       'Testsperonemillion', 'Population', 'Continent', 'Onecaseperpeople',\n",
      "       'Onedeathperpeople', 'Onetestperpeople', 'Activeperonemillion',\n",
      "       'Recoveredperonemillion', 'Criticalperonemillion'],\n",
      "      dtype='object')\n"
     ]
    }
   ],
   "source": [
    "import pandas as pd\n",
    "df = pd.read_csv(\"data/cleaned_data.csv\")\n",
    "print(df.columns)"
   ]
  },
  {
   "cell_type": "code",
   "execution_count": 26,
   "id": "e61c2793-adbb-4abb-bd6d-be232179dfc7",
   "metadata": {},
   "outputs": [
    {
     "name": "stdout",
     "output_type": "stream",
     "text": [
      "['Updated', 'Country', 'Countryinfo', 'Cases', 'Todaycases', 'Deaths', 'Todaydeaths', 'Recovered', 'Todayrecovered', 'Active', 'Critical', 'Casesperonemillion', 'Deathsperonemillion', 'Tests', 'Testsperonemillion', 'Population', 'Continent', 'Onecaseperpeople', 'Onedeathperpeople', 'Onetestperpeople', 'Activeperonemillion', 'Recoveredperonemillion', 'Criticalperonemillion', 'Mortality_Rate', 'Active_Cases']\n"
     ]
    }
   ],
   "source": [
    "import pandas as pd\n",
    "df = pd.read_csv(\"data/with_mortality_and_active_cases.csv\")\n",
    "print(df.columns.tolist())"
   ]
  },
  {
   "cell_type": "code",
   "execution_count": null,
   "id": "1f2e9063-c882-4d06-b799-47fd798ce22e",
   "metadata": {},
   "outputs": [],
   "source": []
  }
 ],
 "metadata": {
  "kernelspec": {
   "display_name": "Python 3 (ipykernel)",
   "language": "python",
   "name": "python3"
  },
  "language_info": {
   "codemirror_mode": {
    "name": "ipython",
    "version": 3
   },
   "file_extension": ".py",
   "mimetype": "text/x-python",
   "name": "python",
   "nbconvert_exporter": "python",
   "pygments_lexer": "ipython3",
   "version": "3.13.3"
  }
 },
 "nbformat": 4,
 "nbformat_minor": 5
}
